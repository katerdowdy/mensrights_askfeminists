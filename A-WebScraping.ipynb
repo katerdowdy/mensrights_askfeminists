{
 "cells": [
  {
   "cell_type": "markdown",
   "metadata": {},
   "source": [
    "# Project 3: 'AskFeminists' vs. 'MensRights'"
   ]
  },
  {
   "cell_type": "markdown",
   "metadata": {},
   "source": [
    "## Part A: Webscraping"
   ]
  },
  {
   "cell_type": "markdown",
   "metadata": {},
   "source": [
    "For scraping the two subreddits, I used [Pushshift's API](https://github.com/pushshift/api) to access the last years' worth of posts and comments for the two subreddits. In total, I scraped 25,000 comments for each, 4,300 posts for AskFeminists and 6,000 posts for MensRights."
   ]
  },
  {
   "cell_type": "code",
   "execution_count": 1,
   "metadata": {},
   "outputs": [],
   "source": [
    "# Import libaries\n",
    "import pandas as pd\n",
    "import requests\n",
    "import time\n",
    "import datetime as dt\n",
    "import json\n",
    "from bs4 import BeautifulSoup\n",
    "\n",
    "pd.set_option('display.max_colwidth', -1)\n",
    "pd.options.display.max_columns = 999"
   ]
  },
  {
   "cell_type": "code",
   "execution_count": 2,
   "metadata": {},
   "outputs": [],
   "source": [
    "# Brian's function to scrape pushshift API\n",
    "def query_pushshift(subreddit, # subreddit name\n",
    "                    kind='submission', # can be 'submission' or 'comment'\n",
    "                    times = 26, # number of time periods to iterate through\n",
    "                    skip = 15, # number of days in each time period\n",
    "                    subfield = ['title', 'selftext', 'subreddit', 'created_utc', \n",
    "                                'author', 'num_comments', 'score', 'is_self', 'full_link'], \n",
    "                    # subfields for just submissions\n",
    "                    comfields = ['body', 'score', 'created_utc']): # fields for comments\n",
    "\n",
    "    stem = \"https://api.pushshift.io/reddit/search/{}/?subreddit={}&size=500\".format(kind, subreddit)\n",
    "    # creating base url\n",
    "    mylist = [] # instantiating empty list\n",
    "    \n",
    "    for x in range(1, times): # iterating through times\n",
    "        \n",
    "        URL = \"{}&after={}d\".format(stem, skip * x) # new url for each time period\n",
    "        print(URL) # prints url as it's scraping it\n",
    "        response = requests.get(URL) # setting up scraper\n",
    "        assert response.status_code == 200 # if code is all clear\n",
    "        mine = response.json()['data'] # content we want from scrape\n",
    "        df = pd.DataFrame.from_dict(mine) # setting up dataframe from dictionaries of scraped content\n",
    "        mylist.append(df) # adding to mylist\n",
    "        time.sleep(2) # setting sleep time between scrapes\n",
    "        \n",
    "    full = pd.concat(mylist, sort=False) # concatenating all dfs into one\n",
    "    \n",
    "    if kind == \"submission\": # for submissions, dropping dups and not including comfields\n",
    "        \n",
    "        full = full[subfield]\n",
    "        \n",
    "        full = full.drop_duplicates()\n",
    "        \n",
    "    def get_date(created): # getting date in datetime from created_utc\n",
    "        return dt.date.fromtimestamp(created)\n",
    "    \n",
    "    _timestamp = full[\"created_utc\"].apply(get_date) # changing created_utc to date\n",
    "    \n",
    "    full['timestamp'] = _timestamp # setting new timestamp as field in df\n",
    "\n",
    "    print(full.shape) #prints shape of final df at end of scrape\n",
    "    \n",
    "    return full "
   ]
  },
  {
   "cell_type": "markdown",
   "metadata": {},
   "source": [
    "##### AskFeminists Scrape"
   ]
  },
  {
   "cell_type": "code",
   "execution_count": null,
   "metadata": {},
   "outputs": [],
   "source": [
    "askfeminists = query_pushshift('AskFeminists') # pulling submissions"
   ]
  },
  {
   "cell_type": "code",
   "execution_count": null,
   "metadata": {},
   "outputs": [],
   "source": [
    "askfeminists.to_csv('./askfeminists121818') # saving to csv"
   ]
  },
  {
   "cell_type": "code",
   "execution_count": null,
   "metadata": {},
   "outputs": [],
   "source": [
    "askfeminists_com = query_pushshift('AskFeminists', kind='comment') # pulling comments"
   ]
  },
  {
   "cell_type": "code",
   "execution_count": null,
   "metadata": {},
   "outputs": [],
   "source": [
    "askfeminists_com.to_csv('./askfeministscom121818') # saving to csv"
   ]
  },
  {
   "cell_type": "markdown",
   "metadata": {},
   "source": [
    "##### MensRights Scrape"
   ]
  },
  {
   "cell_type": "code",
   "execution_count": null,
   "metadata": {},
   "outputs": [],
   "source": [
    "mensrights = query_pushshift('MensRights') # pulling submissions"
   ]
  },
  {
   "cell_type": "code",
   "execution_count": null,
   "metadata": {},
   "outputs": [],
   "source": [
    "mensrights.to_csv('./mensrights121818') # saving to csv"
   ]
  },
  {
   "cell_type": "code",
   "execution_count": null,
   "metadata": {},
   "outputs": [],
   "source": [
    "mensrights_com = query_pushshift('MensRights', kind='comment') # pulling comments"
   ]
  },
  {
   "cell_type": "code",
   "execution_count": null,
   "metadata": {},
   "outputs": [],
   "source": [
    "mensrights_com.to_csv('./mensrightscom121818') # saving to csv"
   ]
  },
  {
   "cell_type": "markdown",
   "metadata": {},
   "source": [
    "## Organizing Data"
   ]
  },
  {
   "cell_type": "markdown",
   "metadata": {},
   "source": [
    "#### AskFeminists"
   ]
  },
  {
   "cell_type": "code",
   "execution_count": 3,
   "metadata": {},
   "outputs": [],
   "source": [
    "askfeminists = pd.read_csv('./data/askfeminists121818')\n",
    "askfeminists_com = pd.read_csv('./data/askfeministscom121818')\n",
    "mensrights = pd.read_csv('./data/mensrights121818')\n",
    "mensrights_com = pd.read_csv('./data/mensrightscom121818')"
   ]
  },
  {
   "cell_type": "code",
   "execution_count": 4,
   "metadata": {},
   "outputs": [],
   "source": [
    "# for submissions\n",
    "# combining title and selftext for new column\n",
    "askfeminists['text'] = askfeminists['title'] + askfeminists['selftext'] \n",
    "# creating column for type = 'post'\n",
    "askfeminists['type'] = 'post'"
   ]
  },
  {
   "cell_type": "code",
   "execution_count": 5,
   "metadata": {},
   "outputs": [],
   "source": [
    "# for comments\n",
    "# combining title and selftext for new column\n",
    "askfeminists_com['text'] = askfeminists_com['body']\n",
    "# creating column for type = 'comment'\n",
    "askfeminists_com['type'] = 'comment'"
   ]
  },
  {
   "cell_type": "code",
   "execution_count": 6,
   "metadata": {},
   "outputs": [],
   "source": [
    "# creating new df with just three columns\n",
    "askfeminists_DF = askfeminists[['text', 'type', 'subreddit']].copy()"
   ]
  },
  {
   "cell_type": "code",
   "execution_count": 7,
   "metadata": {},
   "outputs": [
    {
     "data": {
      "text/plain": [
       "468"
      ]
     },
     "execution_count": 7,
     "metadata": {},
     "output_type": "execute_result"
    }
   ],
   "source": [
    "# checking for nulls\n",
    "askfeminists_DF['text'].isnull().sum()"
   ]
  },
  {
   "cell_type": "code",
   "execution_count": 8,
   "metadata": {},
   "outputs": [],
   "source": [
    "askfeminists_DF.dropna(inplace = True)"
   ]
  },
  {
   "cell_type": "code",
   "execution_count": 9,
   "metadata": {},
   "outputs": [
    {
     "data": {
      "text/plain": [
       "(4305, 3)"
      ]
     },
     "execution_count": 9,
     "metadata": {},
     "output_type": "execute_result"
    }
   ],
   "source": [
    "# checking shape\n",
    "askfeminists_DF.shape"
   ]
  },
  {
   "cell_type": "code",
   "execution_count": 10,
   "metadata": {},
   "outputs": [],
   "source": [
    "# creating new df with just three columns\n",
    "askfeminists_com_DF = askfeminists_com[['text', 'type', 'subreddit']].copy()"
   ]
  },
  {
   "cell_type": "code",
   "execution_count": 12,
   "metadata": {},
   "outputs": [
    {
     "data": {
      "text/plain": [
       "text         0\n",
       "type         0\n",
       "subreddit    0\n",
       "dtype: int64"
      ]
     },
     "execution_count": 12,
     "metadata": {},
     "output_type": "execute_result"
    }
   ],
   "source": [
    "askfeminists_com_DF.isnull().sum()"
   ]
  },
  {
   "cell_type": "code",
   "execution_count": 11,
   "metadata": {},
   "outputs": [
    {
     "data": {
      "text/plain": [
       "(25000, 3)"
      ]
     },
     "execution_count": 11,
     "metadata": {},
     "output_type": "execute_result"
    }
   ],
   "source": [
    "# checking shape\n",
    "askfeminists_com_DF.shape"
   ]
  },
  {
   "cell_type": "code",
   "execution_count": 13,
   "metadata": {},
   "outputs": [],
   "source": [
    "# Creating one DF for all askfeminists\n",
    "askfeminists_all = pd.concat([askfeminists_DF, askfeminists_com_DF], axis=0, join='outer')"
   ]
  },
  {
   "cell_type": "code",
   "execution_count": 14,
   "metadata": {},
   "outputs": [
    {
     "data": {
      "text/plain": [
       "(29305, 3)"
      ]
     },
     "execution_count": 14,
     "metadata": {},
     "output_type": "execute_result"
    }
   ],
   "source": [
    "askfeminists_all.shape"
   ]
  },
  {
   "cell_type": "markdown",
   "metadata": {},
   "source": [
    "#### MensRights"
   ]
  },
  {
   "cell_type": "code",
   "execution_count": 15,
   "metadata": {},
   "outputs": [],
   "source": [
    "# for submissions\n",
    "# combining title and selftext for new column\n",
    "mensrights['text'] = mensrights['title'] + mensrights['selftext']\n",
    "# creating new column type = 'post'\n",
    "mensrights['type'] = 'post'"
   ]
  },
  {
   "cell_type": "code",
   "execution_count": 16,
   "metadata": {},
   "outputs": [],
   "source": [
    "# for comments\n",
    "# combining title and selftext for new column\n",
    "mensrights_com['text'] = mensrights_com['body']\n",
    "# creating new column type = 'comment'\n",
    "mensrights_com['type'] = 'comment'"
   ]
  },
  {
   "cell_type": "code",
   "execution_count": 17,
   "metadata": {},
   "outputs": [],
   "source": [
    "# creating df for submissions\n",
    "mensrights_DF = mensrights[['text', 'type', 'subreddit']].copy()"
   ]
  },
  {
   "cell_type": "code",
   "execution_count": 18,
   "metadata": {},
   "outputs": [
    {
     "data": {
      "text/plain": [
       "17736"
      ]
     },
     "execution_count": 18,
     "metadata": {},
     "output_type": "execute_result"
    }
   ],
   "source": [
    "# checking for nulls (picture posts)\n",
    "mensrights_DF['text'].isnull().sum()"
   ]
  },
  {
   "cell_type": "code",
   "execution_count": 19,
   "metadata": {},
   "outputs": [],
   "source": [
    "mensrights_DF.dropna(inplace = True)"
   ]
  },
  {
   "cell_type": "code",
   "execution_count": 20,
   "metadata": {},
   "outputs": [
    {
     "data": {
      "text/plain": [
       "(6446, 3)"
      ]
     },
     "execution_count": 20,
     "metadata": {},
     "output_type": "execute_result"
    }
   ],
   "source": [
    "# checking shape, about 2000 more than askfeminists\n",
    "mensrights_DF.shape"
   ]
  },
  {
   "cell_type": "code",
   "execution_count": 21,
   "metadata": {},
   "outputs": [],
   "source": [
    "# creating df for comments\n",
    "mensrights_com_DF = mensrights_com[['text', 'type', 'subreddit']].copy()"
   ]
  },
  {
   "cell_type": "code",
   "execution_count": 22,
   "metadata": {},
   "outputs": [
    {
     "data": {
      "text/plain": [
       "0"
      ]
     },
     "execution_count": 22,
     "metadata": {},
     "output_type": "execute_result"
    }
   ],
   "source": [
    "# checking nulls\n",
    "mensrights_com_DF['text'].isnull().sum()"
   ]
  },
  {
   "cell_type": "code",
   "execution_count": 23,
   "metadata": {},
   "outputs": [
    {
     "data": {
      "text/plain": [
       "(25000, 3)"
      ]
     },
     "execution_count": 23,
     "metadata": {},
     "output_type": "execute_result"
    }
   ],
   "source": [
    "# checking shape, same as askfeminists\n",
    "mensrights_com_DF.shape"
   ]
  },
  {
   "cell_type": "code",
   "execution_count": 24,
   "metadata": {},
   "outputs": [],
   "source": [
    "# Creating one DF for all mensrights\n",
    "mensrights_all = pd.concat([mensrights_DF, mensrights_com_DF], axis=0, join='outer')"
   ]
  },
  {
   "cell_type": "code",
   "execution_count": 25,
   "metadata": {},
   "outputs": [
    {
     "data": {
      "text/plain": [
       "(31446, 3)"
      ]
     },
     "execution_count": 25,
     "metadata": {},
     "output_type": "execute_result"
    }
   ],
   "source": [
    "mensrights_all.shape # closer to askfeminists shape"
   ]
  },
  {
   "cell_type": "markdown",
   "metadata": {},
   "source": [
    "##### Saving to csv"
   ]
  },
  {
   "cell_type": "code",
   "execution_count": 26,
   "metadata": {},
   "outputs": [],
   "source": [
    "mensrights_all.to_csv('./mensrights_all')"
   ]
  },
  {
   "cell_type": "code",
   "execution_count": 27,
   "metadata": {},
   "outputs": [],
   "source": [
    "askfeminists_all.to_csv('./askfeminists_all')"
   ]
  }
 ],
 "metadata": {
  "kernelspec": {
   "display_name": "Python 3",
   "language": "python",
   "name": "python3"
  },
  "language_info": {
   "codemirror_mode": {
    "name": "ipython",
    "version": 3
   },
   "file_extension": ".py",
   "mimetype": "text/x-python",
   "name": "python",
   "nbconvert_exporter": "python",
   "pygments_lexer": "ipython3",
   "version": "3.6.5"
  }
 },
 "nbformat": 4,
 "nbformat_minor": 2
}
